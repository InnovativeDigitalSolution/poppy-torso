{
 "cells": [
  {
   "cell_type": "markdown",
   "metadata": {},
   "source": [
    "# Using the forward and inverse kinematics"
   ]
  },
  {
   "cell_type": "markdown",
   "metadata": {},
   "source": [
    "![Banner](banner.png)"
   ]
  },
  {
   "cell_type": "markdown",
   "metadata": {
    "hide_input": true
   },
   "source": [
    "This notebook illustrates how you can use the kinematic chains defined by the PoppyTorso class to directly control the arms of the robot in the cartesian space.\n",
    "\n",
    "Said in a simpler way, this means that we will see how you can:\n",
    "* **get the end effector position from the joint angles of the motors (forward kinematic)**\n",
    "* **compute the joint angles needed to reach a specific cartesian point: i.e. a 3D position (inverse kinematic)**"
   ]
  },
  {
   "cell_type": "markdown",
   "metadata": {},
   "source": [
    "This is a particularly useful and efficient technique, for instance if you want to grab an object in a specific position."
   ]
  },
  {
   "cell_type": "markdown",
   "metadata": {},
   "source": [
    "The Torso robots defines two kinematic chains, one for each arm. They are in the same coordinates system. The origin of both chain is the first link of the robot: the base. They are composed of 7 joints. For the left chain:\n",
    "* abs_z\n",
    "* bust_y\n",
    "* bust_x\n",
    "* **l_shoulder_y**\n",
    "* **l_shoulder_x**\n",
    "* **l_arm_z**\n",
    "* **l_elbow_y**\n",
    "\n",
    "The 3 first joints are passiv, they are part of the chain (this allows two share the same origin for both chains) but are not effectively used, they will not be moved."
   ]
  },
  {
   "cell_type": "markdown",
   "metadata": {},
   "source": [
    "The figure below shows you a plot of both kinematics chains of the Torso (in the zero position):\n",
    "\n",
    "![IK chains of the Torso](./IK.png)"
   ]
  },
  {
   "cell_type": "markdown",
   "metadata": {},
   "source": [
    "All examples below are given using V-REP as it is safer when playing with your robot. You do not risk to break anything, in the worst case all you need to do is reset the simulation :-) All the examples below can be directly switched to a real robot."
   ]
  },
  {
   "cell_type": "markdown",
   "metadata": {},
   "source": [
    "## Simple example using V-REP"
   ]
  },
  {
   "cell_type": "markdown",
   "metadata": {},
   "source": [
    "First load you robot with the usual code:"
   ]
  },
  {
   "cell_type": "code",
   "execution_count": 1,
   "metadata": {},
   "outputs": [],
   "source": [
    "from pypot.creatures import PoppyTorso\n",
    "\n",
    "poppy = PoppyTorso(simulator='vrep')"
   ]
  },
  {
   "cell_type": "markdown",
   "metadata": {},
   "source": [
    "Then, you can directly access the chains:"
   ]
  },
  {
   "cell_type": "code",
   "execution_count": 2,
   "metadata": {},
   "outputs": [
    {
     "name": "stdout",
     "output_type": "stream",
     "text": [
      "Kinematic chain name=chain links=[Link name=Base link bounds=(None, None), Link name=abs_z bounds=(-4583.662227704603, 4583.662227704603), Link name=bust_y bounds=(-3838.817399424839, 1546.9858942315252), Link name=bust_x bounds=(-2291.8311138523013, 2291.8311138523013), Link name=l_shoulder_y bounds=(-6875.493732897918, 8880.845615095293), Link name=l_shoulder_x bounds=(-6016.056820615171, 6302.535660929083), Link name=l_arm_z bounds=(-6016.056820615171, 6016.056820615171), Link name=l_elbow_y bounds=(-8479.775082119413, 57.29545498997201), Link name=last_joint bounds=(None, None)] active_links=[False False False False  True  True  True  True False]\n",
      "Kinematic chain name=chain links=[Link name=Base link bounds=(None, None), Link name=abs_z bounds=(-4583.662227704603, 4583.662227704603), Link name=bust_y bounds=(-3838.817399424839, 1546.9858942315252), Link name=bust_x bounds=(-2291.8311138523013, 2291.8311138523013), Link name=r_shoulder_y bounds=(-8880.845615095295, 6875.493732897915), Link name=r_shoulder_x bounds=(-6302.535660929083, 6016.056820615171), Link name=r_arm_z bounds=(-6016.056820615171, 6016.056820615171), Link name=r_elbow_y bounds=(-57.2957790692482, 8479.774758040137), Link name=last_joint bounds=(None, None)] active_links=[False False False False  True  True  True  True False]\n"
     ]
    }
   ],
   "source": [
    "print(poppy.l_arm_chain)\n",
    "print(poppy.r_arm_chain)"
   ]
  },
  {
   "cell_type": "markdown",
   "metadata": {},
   "source": [
    "And their respective motors:"
   ]
  },
  {
   "cell_type": "code",
   "execution_count": 3,
   "metadata": {},
   "outputs": [
    {
     "data": {
      "text/plain": [
       "['abs_z',\n",
       " 'bust_y',\n",
       " 'bust_x',\n",
       " 'l_shoulder_y',\n",
       " 'l_shoulder_x',\n",
       " 'l_arm_z',\n",
       " 'l_elbow_y']"
      ]
     },
     "execution_count": 3,
     "metadata": {},
     "output_type": "execute_result"
    }
   ],
   "source": [
    "[m.name for m in poppy.l_arm_chain.motors]"
   ]
  },
  {
   "cell_type": "markdown",
   "metadata": {},
   "source": [
    "# Forward kinematics"
   ]
  },
  {
   "cell_type": "markdown",
   "metadata": {},
   "source": [
    "You can directly retrieve the current cartesian position of the end effector of a chain. For instance, assuming your robot is still in the rest positions:"
   ]
  },
  {
   "cell_type": "code",
   "execution_count": 4,
   "metadata": {},
   "outputs": [
    {
     "data": {
      "text/plain": [
       "array([ 0.11622137, -0.16788094,  0.06011828])"
      ]
     },
     "execution_count": 4,
     "metadata": {},
     "output_type": "execute_result"
    }
   ],
   "source": [
    "poppy.l_arm_chain.end_effector"
   ]
  },
  {
   "cell_type": "markdown",
   "metadata": {},
   "source": [
    "This means that the end of the left arm is 0.10 meters on the right of the base of the robot, 0.17 meters in front and 0.07 meters up. "
   ]
  },
  {
   "cell_type": "markdown",
   "metadata": {},
   "source": [
    "*Note: the coordinates system is the same as V-REP so you can easily see the axis from the simulation.*"
   ]
  },
  {
   "cell_type": "markdown",
   "metadata": {},
   "source": [
    "The end effector position is **computed** from the joints position and the kinematic model of the robot. It is thus a theoretical position, which may differs from the real position due to the model imperfections."
   ]
  },
  {
   "cell_type": "markdown",
   "metadata": {},
   "source": [
    "The joints position of a chain can also be directly retrieved (the values are expressed in degrees):"
   ]
  },
  {
   "cell_type": "code",
   "execution_count": 5,
   "metadata": {},
   "outputs": [
    {
     "data": {
      "text/plain": [
       "[0.0, 0.1, 0.0, 2.799999999999997, 2.799999999999997, -0.0, 0.7000000000000028]"
      ]
     },
     "execution_count": 5,
     "metadata": {},
     "output_type": "execute_result"
    }
   ],
   "source": [
    "poppy.l_arm_chain.joints_position"
   ]
  },
  {
   "cell_type": "markdown",
   "metadata": {},
   "source": [
    "### Plotting"
   ]
  },
  {
   "cell_type": "markdown",
   "metadata": {},
   "source": [
    "Thanks to the [IKPy](https://github.com/Phylliade/ikpy) library, you can also directly plot a kinematic chain configuration using matplotlib."
   ]
  },
  {
   "cell_type": "markdown",
   "metadata": {},
   "source": [
    "For instance, the zero position of both arms:"
   ]
  },
  {
   "cell_type": "code",
   "execution_count": 7,
   "metadata": {},
   "outputs": [
    {
     "name": "stdout",
     "output_type": "stream",
     "text": [
      "Populating the interactive namespace from numpy and matplotlib\n"
     ]
    },
    {
     "data": {
      "text/plain": [
       "(-0.5, 0.5)"
      ]
     },
     "execution_count": 7,
     "metadata": {},
     "output_type": "execute_result"
    },
    {
     "data": {
      "image/png": "[encoded data removed]",
      "text/plain": [
       "<Figure size 432x288 with 1 Axes>"
      ]
     },
     "metadata": {
      "needs_background": "light"
     },
     "output_type": "display_data"
    }
   ],
   "source": [
    "%pylab inline\n",
    "from mpl_toolkits.mplot3d import axes3d\n",
    "\n",
    "zero = [0] * 7\n",
    "\n",
    "ax = figure().add_subplot(111, projection='3d')\n",
    "poppy.l_arm_chain.plot(poppy.l_arm_chain.convert_to_ik_angles(zero), ax)\n",
    "poppy.r_arm_chain.plot(poppy.r_arm_chain.convert_to_ik_angles(zero), ax)\n",
    "xlim(-0.5, 0.5)\n",
    "ylim(-0.5, 0.5)"
   ]
  },
  {
   "cell_type": "markdown",
   "metadata": {},
   "source": [
    "*Note the use of the **convert_to_ik_angles** method which converts from pypot representation (using degrees, motor offset and orientation) to IKPy internal representation.*"
   ]
  },
  {
   "cell_type": "markdown",
   "metadata": {},
   "source": [
    "# Inverse kinematics"
   ]
  },
  {
   "cell_type": "markdown",
   "metadata": {},
   "source": [
    "You can also directly ask the robot, more precisely one of its kynematic chain, to reach a specific cartesian position. The [IKPy](https://github.com/Phylliade/ikpy) library will use an optimization technique to try to find the configuration of the joints that best match your target position."
   ]
  },
  {
   "cell_type": "markdown",
   "metadata": {},
   "source": [
    "For instance, if you want to move the robot left hand in front of its head, you can ask it to go the position [0, -0.15, 0.35]:"
   ]
  },
  {
   "cell_type": "code",
   "execution_count": 8,
   "metadata": {},
   "outputs": [],
   "source": [
    "poppy.l_arm_chain.goto((0.0, -0.15, 0.35), 2., wait=True)"
   ]
  },
  {
   "cell_type": "markdown",
   "metadata": {},
   "source": [
    "This is particularly useful when you want to directly control your robot in the cartesian space. For instance, it become rather easy to make the hand of the robot follow a circle:"
   ]
  },
  {
   "cell_type": "code",
   "execution_count": 9,
   "metadata": {},
   "outputs": [],
   "source": [
    "poppy.reset_simulation()\n",
    "\n",
    "r = .1\n",
    "x0, y0, z0 = (0.1, -0.15, 0.25)\n",
    "\n",
    "poppy.l_arm_chain.goto((x0, y0, z0), 1., wait=True)\n",
    "\n",
    "\n",
    "for alpha in arange(0, 2*pi, .05):\n",
    "    x = r * cos(alpha) + x0\n",
    "    z = r * sin(alpha) + z0\n",
    "    \n",
    "    poppy.l_arm_chain.goto((x, y0, z), .05, wait=True)"
   ]
  },
  {
   "cell_type": "markdown",
   "metadata": {},
   "source": [
    "As you can see the movement may be jerky as each computation of the inverse kinematic takes some time."
   ]
  },
  {
   "cell_type": "markdown",
   "metadata": {},
   "source": [
    " The optimizer used by IKPy can be tweaked depending on what you want to do. This is beyond the scope of this tutorial, please refer directly to [IKPy documentation](https://github.com/Phylliade/ikpy) for details."
   ]
  },
  {
   "cell_type": "markdown",
   "metadata": {},
   "source": [
    "Finally, thanks to widgets you can also easily design a user interface for directly controlling your robot's hand!"
   ]
  },
  {
   "cell_type": "code",
   "execution_count": 10,
   "metadata": {},
   "outputs": [
    {
     "data": {
      "application/vnd.jupyter.widget-view+json": {
       "model_id": "c2ad3da43fc14c7986a9e506d367e51d",
       "version_major": 2,
       "version_minor": 0
      },
      "text/plain": [
       "interactive(children=(FloatSlider(value=0.21526166078691575, description='x', max=0.5152616607869157, min=-0.0…"
      ]
     },
     "metadata": {},
     "output_type": "display_data"
    },
    {
     "data": {
      "text/plain": [
       "<function __main__.goto(x, y, z)>"
      ]
     },
     "execution_count": 10,
     "metadata": {},
     "output_type": "execute_result"
    }
   ],
   "source": [
    "from ipywidgets import interact, FloatSlider\n",
    "\n",
    "poppy.reset_simulation()\n",
    "\n",
    "c = poppy.l_arm_chain\n",
    "\n",
    "x, y, z = c.end_effector\n",
    "size = 0.3\n",
    "\n",
    "def goto(x, y, z):\n",
    "    c.goto((x, y, z), .1)\n",
    "    \n",
    "interact(goto, \n",
    "         x=FloatSlider(min=x-size, max=x+size, value=x, step=0.01), \n",
    "         y=FloatSlider(min=y-size, max=y+size, value=y, step=0.01), \n",
    "         z=FloatSlider(min=z-size, max=z+size, value=z, step=0.01))"
   ]
  },
  {
   "cell_type": "code",
   "execution_count": null,
   "metadata": {},
   "outputs": [],
   "source": []
  }
 ],
 "metadata": {
  "kernelspec": {
   "display_name": "Python 3.6.9 64-bit ('minfo': conda)",
   "language": "python",
   "name": "python36964bitminfoconda94c8397879e8413897a3ae60a8e0def8"
  },
  "language_info": {
   "codemirror_mode": {
    "name": "ipython",
    "version": 3
   },
   "file_extension": ".py",
   "mimetype": "text/x-python",
   "name": "python",
   "nbconvert_exporter": "python",
   "pygments_lexer": "ipython3",
   "version": "3.6.9"
  }
 },
 "nbformat": 4,
 "nbformat_minor": 1
}
